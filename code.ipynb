{
  "nbformat": 4,
  "nbformat_minor": 0,
  "metadata": {
    "colab": {
      "provenance": []
    },
    "kernelspec": {
      "name": "python3",
      "display_name": "Python 3"
    },
    "language_info": {
      "name": "python"
    }
  },
  "cells": [
    {
      "cell_type": "code",
      "source": [
        "def sum_of_two_numbers(a, b):\n",
        "    return a + b\n",
        "\n",
        "result = sum_of_two_numbers(3, 5)\n",
        "print(f\"The sum is: {result}\")\n"
      ],
      "metadata": {
        "colab": {
          "base_uri": "https://localhost:8080/"
        },
        "id": "h4d9rcOFRGv9",
        "outputId": "fddd3715-79a8-4442-b0a5-3cac0a16ebcb"
      },
      "execution_count": null,
      "outputs": [
        {
          "output_type": "stream",
          "name": "stdout",
          "text": [
            "The sum is: 8\n"
          ]
        }
      ]
    },
    {
      "cell_type": "code",
      "source": [
        "def sum_of_two_numbers(a, b):\n",
        "    return a * b\n",
        "\n",
        "result = sum_of_two_numbers(3, 5)\n",
        "print(f\"The sum is: {result}\")"
      ],
      "metadata": {
        "colab": {
          "base_uri": "https://localhost:8080/"
        },
        "id": "YT0X6CPo345m",
        "outputId": "a11772cd-6327-46d0-d4e2-18acc75709d3"
      },
      "execution_count": 3,
      "outputs": [
        {
          "output_type": "stream",
          "name": "stdout",
          "text": [
            "The sum is: 15\n"
          ]
        }
      ]
    },
    {
      "cell_type": "code",
      "source": [
        "def sum_of_two_numbers(a, b):\n",
        "    return a / b\n",
        "\n",
        "result = sum_of_two_numbers(3, 5)\n",
        "print(f\"The sum is: {result}\")"
      ],
      "metadata": {
        "colab": {
          "base_uri": "https://localhost:8080/"
        },
        "id": "fv00F8Di34TP",
        "outputId": "3b1f61c5-1189-44eb-f191-17d21a8dd58a"
      },
      "execution_count": 4,
      "outputs": [
        {
          "output_type": "stream",
          "name": "stdout",
          "text": [
            "The sum is: 0.6\n"
          ]
        }
      ]
    },
    {
      "cell_type": "code",
      "source": [
        "def sum_of_two_numbers(a, b):\n",
        "    return a - b\n",
        "\n",
        "result = sum_of_two_numbers(3, 5)\n",
        "print(f\"The sum is: {result}\")"
      ],
      "metadata": {
        "colab": {
          "base_uri": "https://localhost:8080/"
        },
        "id": "GRIiOGnzRkS4",
        "outputId": "cca72d69-ce7a-4a49-ec1b-4d63740c5195"
      },
      "execution_count": 1,
      "outputs": [
        {
          "output_type": "stream",
          "name": "stdout",
          "text": [
            "The sum is: -2\n"
          ]
        }
      ]
    },
    {
      "cell_type": "code",
      "source": [
        "my_list = [1, 2, 3, 4, 5]\n",
        "print(my_list[2])\n",
        "print(my_list[3:5])\n",
        "my_list[0] = 11\n",
        "print(my_list)\n"
      ],
      "metadata": {
        "colab": {
          "base_uri": "https://localhost:8080/"
        },
        "id": "IvA5y8rvRzCG",
        "outputId": "a7f982d4-cb55-4bd1-c156-196c8f47b667"
      },
      "execution_count": 2,
      "outputs": [
        {
          "output_type": "stream",
          "name": "stdout",
          "text": [
            "3\n",
            "[4, 5]\n",
            "[11, 2, 3, 4, 5]\n"
          ]
        }
      ]
    },
    {
      "cell_type": "code",
      "source": [
        "class Library:\n",
        "\n",
        "    def __init__(self,title, author, publication_year):\n",
        "\n",
        "        self.title=title\n",
        "        self.author=author\n",
        "        self.publication_year=publication_year\n",
        "    def work(self):\n",
        "\n",
        "        pass"
      ],
      "metadata": {
        "id": "94HktiZ1Stvc"
      },
      "execution_count": null,
      "outputs": []
    },
    {
      "cell_type": "code",
      "source": [
        "class Book(Library):\n",
        "    def __init__(self,title,author,publication_year):\n",
        "        self.title=title\n",
        "        self.author=author\n",
        "        self.publication_year=publication_year\n",
        "    def checkout(self):\n",
        "         print(f\"{self.title} {self.author} {self.publication_year}\")\n",
        "    def return_item(self):\n",
        "        print(f\"{self.title} {self.author} {self.publication_year}\")"
      ],
      "metadata": {
        "id": "IqVa8v5_S6qt"
      },
      "execution_count": null,
      "outputs": []
    },
    {
      "cell_type": "code",
      "source": [
        "class Book(Library):\n",
        "    def __init__(self,title,author,publication_year):\n",
        "        self.title=title\n",
        "        self.author=author\n",
        "        self.publication_year=publication_year\n",
        "    def checkout(self):\n",
        "         print(f\"{self.title} {self.author} {self.publication_year}\")\n",
        "    def return_item(self):\n",
        "        print(f\"{self.title} {self.author} {self.publication_year}\")"
      ],
      "metadata": {
        "id": "4OzSx5VbTbTb"
      },
      "execution_count": null,
      "outputs": []
    },
    {
      "cell_type": "code",
      "source": [
        "class Magazine(Library):\n",
        "    def __init__(self,title,author,publication_year):\n",
        "        self.title=title\n",
        "        self.author=author\n",
        "        self.publication_year=publication_year\n",
        "    def return_item(self):\n",
        "        print(f\"{self.title} {self.author} {self.publication_year}\")\n",
        "    def checkout(self):\n",
        "         print(f\"{self.title} {self.author} {self.publication_year}\")"
      ],
      "metadata": {
        "id": "i2RmJIl3Tfhl"
      },
      "execution_count": null,
      "outputs": []
    },
    {
      "cell_type": "code",
      "source": [
        "book1=Book(\"the last lesson\",\"alphonse daudet\",\"1870\")\n",
        "book1.checkout()\n",
        "book1=Book(\"the last lesson\",\"alphonse daudet\",\"1870\")\n",
        "book1.return_item()"
      ],
      "metadata": {
        "colab": {
          "base_uri": "https://localhost:8080/"
        },
        "id": "pGNvRTd0TrQS",
        "outputId": "37fe3ff0-5926-49bc-fa71-a5818e354a11"
      },
      "execution_count": null,
      "outputs": [
        {
          "output_type": "stream",
          "name": "stdout",
          "text": [
            "the last lesson alphonse daudet 1870\n",
            "the last lesson alphonse daudet 1870\n"
          ]
        }
      ]
    },
    {
      "cell_type": "code",
      "source": [
        "magazine1=Magazine(\"the lost spring\",\"Anees Jung\",\"2005\")\n",
        "magazine1.return_item()\n",
        "magazine1=Magazine(\"the lost spring\",\"Anees Jung\",\"2005\")\n",
        "magazine1.checkout()"
      ],
      "metadata": {
        "colab": {
          "base_uri": "https://localhost:8080/"
        },
        "id": "hWhS-u76TubM",
        "outputId": "af16723c-d193-4958-85da-fb997a118a53"
      },
      "execution_count": null,
      "outputs": [
        {
          "output_type": "stream",
          "name": "stdout",
          "text": [
            "the lost spring Anees Jung 2005\n",
            "the lost spring Anees Jung 2005\n"
          ]
        }
      ]
    },
    {
      "cell_type": "code",
      "source": [
        "import pandas as pd"
      ],
      "metadata": {
        "id": "4Ue9NWqQUHQ2"
      },
      "execution_count": null,
      "outputs": []
    },
    {
      "cell_type": "code",
      "source": [
        "student={\n",
        "    \"name\":['nikhil','jyoti'],\n",
        "    \"class\":['11','10'],\n",
        "    \"score\":['80%','75%']\n",
        "}\n",
        "ha=pd.DataFrame(student)\n",
        "print(ha)\n"
      ],
      "metadata": {
        "colab": {
          "base_uri": "https://localhost:8080/"
        },
        "id": "0EojNThaUaTS",
        "outputId": "368aba3a-6f37-42a1-d29f-0ef91f998360"
      },
      "execution_count": null,
      "outputs": [
        {
          "output_type": "stream",
          "name": "stdout",
          "text": [
            "     name class score\n",
            "0  nikhil    11   80%\n",
            "1   jyoti    10   75%\n"
          ]
        }
      ]
    },
    {
      "cell_type": "code",
      "source": [
        "mydataset={\n",
        "    \"villager\":['jarthal','raliyawas','nangal saliya'],\n",
        "    \"city\":['rewari','jaipur','alwar']\n",
        "}\n",
        "sv=pd.DataFrame(mydataset)\n",
        "print(sv)"
      ],
      "metadata": {
        "colab": {
          "base_uri": "https://localhost:8080/"
        },
        "id": "dNShAefIUg61",
        "outputId": "e3e73cd6-258f-4686-8953-b7d9c63abf83"
      },
      "execution_count": null,
      "outputs": [
        {
          "output_type": "stream",
          "name": "stdout",
          "text": [
            "        villager    city\n",
            "0        jarthal  rewari\n",
            "1      raliyawas  jaipur\n",
            "2  nangal saliya   alwar\n"
          ]
        }
      ]
    },
    {
      "cell_type": "code",
      "source": [
        "mydataset={\n",
        "    \"Duration\":{\n",
        "        0:60,\n",
        "        1:45,\n",
        "        2:35,\n",
        "        3:60,\n",
        "        4:60\n",
        "    },\n",
        "    \"pulse\":{\n",
        "        0:102,\n",
        "        1:112,\n",
        "        2:117,\n",
        "        3:103,\n",
        "        4:109\n",
        "    }\n",
        "}\n",
        "sd=pd.DataFrame(mydataset)\n",
        "print(sd)"
      ],
      "metadata": {
        "colab": {
          "base_uri": "https://localhost:8080/"
        },
        "id": "zxJLraHyUl1K",
        "outputId": "25542649-21d6-4880-f485-b151b997443f"
      },
      "execution_count": null,
      "outputs": [
        {
          "output_type": "stream",
          "name": "stdout",
          "text": [
            "   Duration  pulse\n",
            "0        60    102\n",
            "1        45    112\n",
            "2        35    117\n",
            "3        60    103\n",
            "4        60    109\n"
          ]
        }
      ]
    },
    {
      "cell_type": "code",
      "source": [
        "a=[1,2,3,4,5]\n",
        "pritam=pd.Series(a)\n",
        "print(pritam)"
      ],
      "metadata": {
        "colab": {
          "base_uri": "https://localhost:8080/"
        },
        "id": "ibgb82mdUrHP",
        "outputId": "1b9b485f-69b4-4b39-c43b-b5a60cba8024"
      },
      "execution_count": null,
      "outputs": [
        {
          "output_type": "stream",
          "name": "stdout",
          "text": [
            "0    1\n",
            "1    2\n",
            "2    3\n",
            "3    4\n",
            "4    5\n",
            "dtype: int64\n"
          ]
        }
      ]
    },
    {
      "cell_type": "code",
      "source": [
        "data = {\n",
        "      \"student\":{\n",
        "    \"0\":1,\n",
        "    \"1\":2,\n",
        "    \"2\":3,\n",
        "    \"3\":4,\n",
        "    \"4\":5,\n",
        "    \"5\":6\n",
        "  },\n",
        "      \"name\":{\n",
        "    \"0\":\"nikhil\",\n",
        "    \"1\":\"jyoti\",\n",
        "    \"2\":\"garvi\",\n",
        "    \"3\":\"mamta\",\n",
        "    \"4\":\"mohit\",\n",
        "    \"5\":\"naman\"\n",
        "  },\n",
        "      \"roll no\":{\n",
        "    \"0\":20,\n",
        "    \"1\":21,\n",
        "    \"2\":22,\n",
        "    \"3\":23,\n",
        "    \"4\":24,\n",
        "    \"5\":25\n",
        "  },\n",
        "      \"possition\":{\n",
        "    \"0\":\"A\",\n",
        "    \"1\":\"A+\",\n",
        "    \"2\":\"B\",\n",
        "    \"3\":\"B+\",\n",
        "    \"4\":\"B+\",\n",
        "    \"5\":\"A\"\n",
        "  },\n",
        "\n",
        "}\n",
        "\n",
        "df = pd.DataFrame(data)\n",
        "\n",
        "print(df)\n"
      ],
      "metadata": {
        "id": "Xc0FVOJSVVpH",
        "colab": {
          "base_uri": "https://localhost:8080/"
        },
        "outputId": "4444a0a4-401d-4453-8795-f60d4207d6ea"
      },
      "execution_count": null,
      "outputs": [
        {
          "output_type": "stream",
          "name": "stdout",
          "text": [
            "   student    name  roll no possition\n",
            "0        1  nikhil       20         A\n",
            "1        2   jyoti       21        A+\n",
            "2        3   garvi       22         B\n",
            "3        4   mamta       23        B+\n",
            "4        5   mohit       24        B+\n",
            "5        6   naman       25         A\n"
          ]
        }
      ]
    },
    {
      "cell_type": "code",
      "source": [
        "for p in range(2,3):\n",
        "\n",
        "    for v in range(1,11):\n",
        "\n",
        "        print(p, \"*\", v, \"=\", p*v)\n",
        "\n"
      ],
      "metadata": {
        "id": "0ClfuCCVWwVP",
        "colab": {
          "base_uri": "https://localhost:8080/"
        },
        "outputId": "2172d638-e1f7-4048-e040-afe5e9474068"
      },
      "execution_count": 15,
      "outputs": [
        {
          "output_type": "stream",
          "name": "stdout",
          "text": [
            "2 * 1 = 2\n",
            "2 * 2 = 4\n",
            "2 * 3 = 6\n",
            "2 * 4 = 8\n",
            "2 * 5 = 10\n",
            "2 * 6 = 12\n",
            "2 * 7 = 14\n",
            "2 * 8 = 16\n",
            "2 * 9 = 18\n",
            "2 * 10 = 20\n",
            "\n"
          ]
        }
      ]
    },
    {
      "cell_type": "code",
      "source": [
        "for numbers in range(2, 18):\n",
        "    is_prime = True\n",
        "    for h in range(2, int(numbers ** 0.2) + 1):\n",
        "        if numbers % h == 0:\n",
        "            is_prime = False\n",
        "            break\n",
        "    if is_prime:\n",
        "        print(numbers, \"is a prime number\")\n",
        "    else:\n",
        "        print(numbers, \"is not a prime number\")"
      ],
      "metadata": {
        "colab": {
          "base_uri": "https://localhost:8080/"
        },
        "id": "vcvxdqxRe4hc",
        "outputId": "a9bd1c21-a05e-4c8c-9cbb-160567b40301"
      },
      "execution_count": 16,
      "outputs": [
        {
          "output_type": "stream",
          "name": "stdout",
          "text": [
            "2 is a prime number\n",
            "3 is a prime number\n",
            "4 is a prime number\n",
            "5 is a prime number\n",
            "6 is a prime number\n",
            "7 is a prime number\n",
            "8 is a prime number\n",
            "9 is a prime number\n",
            "10 is a prime number\n",
            "11 is a prime number\n",
            "12 is a prime number\n",
            "13 is a prime number\n",
            "14 is a prime number\n",
            "15 is a prime number\n",
            "16 is a prime number\n",
            "17 is a prime number\n"
          ]
        }
      ]
    },
    {
      "cell_type": "code",
      "source": [
        "for pri in range(1,5):\n",
        "    factorial = 1\n",
        "    for n in range(1, pri + 1):\n",
        "        factorial *= n\n",
        "    print(\"Factorial of\", pri, \"is\", factorial)"
      ],
      "metadata": {
        "colab": {
          "base_uri": "https://localhost:8080/"
        },
        "id": "oRiDEJ5XfK4v",
        "outputId": "d698d71f-fd7c-43ec-e5b6-452b4248fd42"
      },
      "execution_count": 20,
      "outputs": [
        {
          "output_type": "stream",
          "name": "stdout",
          "text": [
            "Factorial of 1 is 1\n",
            "Factorial of 2 is 2\n",
            "Factorial of 3 is 6\n",
            "Factorial of 4 is 24\n"
          ]
        }
      ]
    },
    {
      "cell_type": "code",
      "source": [
        "import numpy as np\n",
        "\n",
        "arr = np.array([1, 2, 3, 4, 5, 6, 7, 8, 9, 10, 11, 12])\n",
        "\n",
        "newarr = arr.reshape(2, 3, 2)\n",
        "\n",
        "print(newarr)"
      ],
      "metadata": {
        "colab": {
          "base_uri": "https://localhost:8080/"
        },
        "id": "s4fFNBgNfRrl",
        "outputId": "0f078121-6c4f-4003-8221-79663fb6f024"
      },
      "execution_count": 21,
      "outputs": [
        {
          "output_type": "stream",
          "name": "stdout",
          "text": [
            "[[[ 1  2]\n",
            "  [ 3  4]\n",
            "  [ 5  6]]\n",
            "\n",
            " [[ 7  8]\n",
            "  [ 9 10]\n",
            "  [11 12]]]\n"
          ]
        }
      ]
    },
    {
      "cell_type": "code",
      "source": [
        "arr = np.array([1, 2, 3, 4, 5, 6, 7, 8])\n",
        "\n",
        "x = np.where(arr%2 == 0)\n",
        "\n",
        "print(x)"
      ],
      "metadata": {
        "colab": {
          "base_uri": "https://localhost:8080/"
        },
        "id": "a8o-h5pr5tHQ",
        "outputId": "ae0f0b0a-4308-4cd5-cae8-28f3ee6006fb"
      },
      "execution_count": 24,
      "outputs": [
        {
          "output_type": "stream",
          "name": "stdout",
          "text": [
            "(array([1, 3, 5, 7]),)\n"
          ]
        }
      ]
    },
    {
      "cell_type": "code",
      "source": [
        "arr2 = np.array([[1,2,3,4],[5,6,7,8]])\n",
        "arr2"
      ],
      "metadata": {
        "colab": {
          "base_uri": "https://localhost:8080/"
        },
        "id": "E_oyC9Tm6eTC",
        "outputId": "bade948f-7d40-46f8-894e-7feb6193a7ec"
      },
      "execution_count": 25,
      "outputs": [
        {
          "output_type": "execute_result",
          "data": {
            "text/plain": [
              "array([[1, 2, 3, 4],\n",
              "       [5, 6, 7, 8]])"
            ]
          },
          "metadata": {},
          "execution_count": 25
        }
      ]
    },
    {
      "cell_type": "code",
      "source": [
        "arr2.shape"
      ],
      "metadata": {
        "colab": {
          "base_uri": "https://localhost:8080/"
        },
        "id": "gjsoFzmj6ePI",
        "outputId": "e74c73de-b3b6-4376-8aad-cad29bb39fd4"
      },
      "execution_count": 26,
      "outputs": [
        {
          "output_type": "execute_result",
          "data": {
            "text/plain": [
              "(2, 4)"
            ]
          },
          "metadata": {},
          "execution_count": 26
        }
      ]
    },
    {
      "cell_type": "code",
      "source": [
        "arr2.reshape(4,2)"
      ],
      "metadata": {
        "colab": {
          "base_uri": "https://localhost:8080/"
        },
        "id": "WVzDct5r6eMS",
        "outputId": "794fcdc5-b368-45c0-98a9-825897f14438"
      },
      "execution_count": 27,
      "outputs": [
        {
          "output_type": "execute_result",
          "data": {
            "text/plain": [
              "array([[1, 2],\n",
              "       [3, 4],\n",
              "       [5, 6],\n",
              "       [7, 8]])"
            ]
          },
          "metadata": {},
          "execution_count": 27
        }
      ]
    },
    {
      "cell_type": "code",
      "source": [
        "np.zeros(6)"
      ],
      "metadata": {
        "colab": {
          "base_uri": "https://localhost:8080/"
        },
        "id": "84CDBbXQ6eJv",
        "outputId": "e4efac3d-87ee-4cdf-db47-7282e2797403"
      },
      "execution_count": 28,
      "outputs": [
        {
          "output_type": "execute_result",
          "data": {
            "text/plain": [
              "array([0., 0., 0., 0., 0., 0.])"
            ]
          },
          "metadata": {},
          "execution_count": 28
        }
      ]
    },
    {
      "cell_type": "code",
      "source": [
        "np.ones((4,4))"
      ],
      "metadata": {
        "colab": {
          "base_uri": "https://localhost:8080/"
        },
        "id": "V8B91jO46eGx",
        "outputId": "59314c5e-027c-49c0-f13e-09087ff49ee0"
      },
      "execution_count": 29,
      "outputs": [
        {
          "output_type": "execute_result",
          "data": {
            "text/plain": [
              "array([[1., 1., 1., 1.],\n",
              "       [1., 1., 1., 1.],\n",
              "       [1., 1., 1., 1.],\n",
              "       [1., 1., 1., 1.]])"
            ]
          },
          "metadata": {},
          "execution_count": 29
        }
      ]
    },
    {
      "cell_type": "code",
      "source": [
        "2+np.ones((4,4))"
      ],
      "metadata": {
        "colab": {
          "base_uri": "https://localhost:8080/"
        },
        "id": "wZpwIAkH6eEd",
        "outputId": "c3782105-68ea-47d1-b0e9-5bbfaf0f2ccc"
      },
      "execution_count": 30,
      "outputs": [
        {
          "output_type": "execute_result",
          "data": {
            "text/plain": [
              "array([[3., 3., 3., 3.],\n",
              "       [3., 3., 3., 3.],\n",
              "       [3., 3., 3., 3.],\n",
              "       [3., 3., 3., 3.]])"
            ]
          },
          "metadata": {},
          "execution_count": 30
        }
      ]
    },
    {
      "cell_type": "code",
      "source": [
        "class Person:\n",
        "    def __init__(self,name):\n",
        "        self.name=name\n",
        "\n",
        "    def display_info(self):\n",
        "        print(f\"Name is : {self.name}\")"
      ],
      "metadata": {
        "id": "RZQCc4E1gQeV"
      },
      "execution_count": null,
      "outputs": []
    },
    {
      "cell_type": "code",
      "source": [
        "class Student(Person):\n",
        "    def __init__(self,name,grade):\n",
        "        super().__init__(name)\n",
        "        self.grade=grade\n",
        "\n",
        "    def display_info(self):\n",
        "        super().display_info()\n",
        "        print(f\"Grade    is : {self.grade}\")\n"
      ],
      "metadata": {
        "id": "AVGgzH3KgyuT"
      },
      "execution_count": null,
      "outputs": []
    },
    {
      "cell_type": "code",
      "source": [
        "student1= Student(\"pritam\",\"A\")\n",
        "student1.display_info()"
      ],
      "metadata": {
        "colab": {
          "base_uri": "https://localhost:8080/"
        },
        "id": "4DmGVIopg1IU",
        "outputId": "6970d6b0-f44c-4999-93c8-431b43dd8782"
      },
      "execution_count": null,
      "outputs": [
        {
          "output_type": "stream",
          "name": "stdout",
          "text": [
            "Name is : pritam\n",
            "Grade is : A\n"
          ]
        }
      ]
    },
    {
      "cell_type": "code",
      "source": [
        "def is_even(num):\n",
        "    if num % 2 == 0:\n",
        "      return('even')\n",
        "    else:\n",
        "      return('odd')\n",
        "\n",
        "is_even(7)"
      ],
      "metadata": {
        "id": "lX4O5BhLg4cU",
        "colab": {
          "base_uri": "https://localhost:8080/",
          "height": 36
        },
        "outputId": "d310e6b9-32cf-41ec-9435-f0f027478f4d"
      },
      "execution_count": null,
      "outputs": [
        {
          "output_type": "execute_result",
          "data": {
            "text/plain": [
              "'odd'"
            ],
            "application/vnd.google.colaboratory.intrinsic+json": {
              "type": "string"
            }
          },
          "metadata": {},
          "execution_count": 19
        }
      ]
    },
    {
      "cell_type": "code",
      "source": [
        "def shout(text):\n",
        "    return text.upper()\n",
        "\n",
        "def whisper(text):\n",
        "    return text.lower()\n",
        "\n",
        "def greet(func):\n",
        "    greeting = func(\"Hi, I am created by a function passed as an argument.\")\n",
        "    print(greeting)\n",
        "\n",
        "greet(shout)\n",
        "greet(whisper)"
      ],
      "metadata": {
        "id": "8JR1MMfckGZF",
        "colab": {
          "base_uri": "https://localhost:8080/"
        },
        "outputId": "fc461a10-de12-4f50-dd48-40cd4ad1490e"
      },
      "execution_count": null,
      "outputs": [
        {
          "output_type": "stream",
          "name": "stdout",
          "text": [
            "HI, I AM CREATED BY A FUNCTION PASSED AS AN ARGUMENT.\n",
            "hi, i am created by a function passed as an argument.\n"
          ]
        }
      ]
    },
    {
      "cell_type": "code",
      "source": [],
      "metadata": {
        "id": "U_QAoOpxspeK"
      },
      "execution_count": null,
      "outputs": []
    }
  ]
}